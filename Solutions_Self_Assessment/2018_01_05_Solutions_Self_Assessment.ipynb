{
 "cells": [
  {
   "cell_type": "markdown",
   "metadata": {},
   "source": [
    "# Data Science Self-Assessment - Solutions"
   ]
  },
  {
   "cell_type": "markdown",
   "metadata": {},
   "source": [
    "For the corresponding solutions (by Galvanize) see my [Github page](https://github.com/RoyKlaasseBos/self-study-resources/blob/master/DSI-Self-Assessment.pdf)."
   ]
  },
  {
   "cell_type": "markdown",
   "metadata": {},
   "source": [
    "## Spot the Differences"
   ]
  },
  {
   "cell_type": "markdown",
   "metadata": {},
   "source": [
    "### For Loops"
   ]
  },
  {
   "cell_type": "markdown",
   "metadata": {},
   "source": [
    "**Script 1**  \n",
    "The program will print the value of `total` for each iteration of the `for`-loop. Since total is reset to 0 for each iteration, the output will be:\n",
    "```python\n",
    "1\n",
    "2\n",
    "3\n",
    "```"
   ]
  },
  {
   "cell_type": "markdown",
   "metadata": {},
   "source": [
    "**Script 2**  \n",
    "After each iteration of the `for`-loop the current value of `total` is printed, which comes down to: \n",
    "```python\n",
    "1\n",
    "3\n",
    "6\n",
    "```"
   ]
  },
  {
   "cell_type": "markdown",
   "metadata": {},
   "source": [
    "**Script 3**  \n",
    "The difference with script 2 is that total is only printed once (after the `for`-loop). \n",
    "```python\n",
    "6\n",
    "```"
   ]
  },
  {
   "cell_type": "markdown",
   "metadata": {},
   "source": [
    "### For Loops"
   ]
  },
  {
   "cell_type": "markdown",
   "metadata": {},
   "source": [
    "**Script 1**  \n",
    "As you can see below, only `cat` is retured since the `return`-statement immediatetely breaks the `for`-loop."
   ]
  },
  {
   "cell_type": "code",
   "execution_count": 7,
   "metadata": {},
   "outputs": [
    {
     "data": {
      "text/plain": [
       "'cat'"
      ]
     },
     "execution_count": 7,
     "metadata": {},
     "output_type": "execute_result"
    }
   ],
   "source": [
    "# Script 1\n",
    "def my_function1(my_list):\n",
    "    output = []\n",
    "    for item in my_list:\n",
    "        output.append(item)\n",
    "        return item\n",
    "    \n",
    "my_function1(['cat', 'bad', 'dad'])"
   ]
  },
  {
   "cell_type": "markdown",
   "metadata": {},
   "source": [
    "**Script 2**  \n",
    "Here is the same problem as in script 1 (the `return`-statement is part of the `for`-loop) and thus the output will only be `cat`.\n",
    "```python\n",
    "'cat'\n",
    "```"
   ]
  },
  {
   "cell_type": "markdown",
   "metadata": {},
   "source": [
    "**Script 3**  \n",
    "This script returns the last item of `my_list` (`dad`) because that is the value of `item` once the `for`-loop finishes. \n",
    "```python\n",
    "'dad'\n",
    "```"
   ]
  },
  {
   "cell_type": "markdown",
   "metadata": {},
   "source": [
    "**Script 4**  \n",
    "Because the list `output` is reset to `[]` after each iteration of the `for`-loop `my_function4()` will return `dad` (an empty `output` list  appended with the last item of `my_list`).\n",
    "```python\n",
    "'dad'\n",
    "```"
   ]
  },
  {
   "cell_type": "markdown",
   "metadata": {},
   "source": [
    "**Script 5**  \n",
    "This time the list is not emptied after each iteration so that the return value will be a list `output` that contains all elements of `my_list`. Note that calling `my_function5()` twice will give exactly the same output as the `output` list is emptied again.\n",
    "```python\n",
    "['cat', 'bad', 'dad']\n",
    "['cat', 'bad', 'dad']\n",
    "```"
   ]
  },
  {
   "cell_type": "markdown",
   "metadata": {},
   "source": [
    "**Script 6**  \n",
    "Now `output` has become a global variable (list) which is not reset for each `my_function6()` function call. In other words, the elements of `my_list` for the second function call are appended to the existing values of `my_list`. \n",
    "```python\n",
    "['cat', 'bad', 'dad']\n",
    "['cat', 'bad', 'dad', 'cat', 'bad', 'dad']\n",
    "```"
   ]
  },
  {
   "cell_type": "markdown",
   "metadata": {},
   "source": [
    "### Make a function"
   ]
  },
  {
   "cell_type": "markdown",
   "metadata": {},
   "source": [
    "(1) We want a function that takes a list of numbers and returns that list where 10 was added to each number."
   ]
  },
  {
   "cell_type": "code",
   "execution_count": 16,
   "metadata": {},
   "outputs": [
    {
     "data": {
      "text/plain": [
       "[11, 12, 13]"
      ]
     },
     "execution_count": 16,
     "metadata": {},
     "output_type": "execute_result"
    }
   ],
   "source": [
    "# using a list-comprehension\n",
    "def list_add_10(list_num):\n",
    "    return [num + 10 for num in list_num]\n",
    "\n",
    "list_add_10([1,2,3])"
   ]
  },
  {
   "cell_type": "code",
   "execution_count": 18,
   "metadata": {},
   "outputs": [
    {
     "data": {
      "text/plain": [
       "[11, 12, 13]"
      ]
     },
     "execution_count": 18,
     "metadata": {},
     "output_type": "execute_result"
    }
   ],
   "source": [
    "# alternatively \n",
    "def list_add_10(list_num):\n",
    "    output = []\n",
    "    for num in list_num:\n",
    "        output.append(num+10)\n",
    "    return output\n",
    "\n",
    "list_add_10([1,2,3])"
   ]
  },
  {
   "cell_type": "markdown",
   "metadata": {},
   "source": [
    "(2) We want a function that takes in a list of strings and returns the list with the length of the words."
   ]
  },
  {
   "cell_type": "code",
   "execution_count": 21,
   "metadata": {},
   "outputs": [
    {
     "data": {
      "text/plain": [
       "[5, 3, 2, 3]"
      ]
     },
     "execution_count": 21,
     "metadata": {},
     "output_type": "execute_result"
    }
   ],
   "source": [
    "# using a list-comprehension\n",
    "def list_length_words(list_words):\n",
    "    return [len(word) for word in list_words]\n",
    "\n",
    "list_length_words(['great', 'job', 'so', 'far'])"
   ]
  },
  {
   "cell_type": "code",
   "execution_count": 22,
   "metadata": {},
   "outputs": [
    {
     "data": {
      "text/plain": [
       "[5, 3, 2, 3]"
      ]
     },
     "execution_count": 22,
     "metadata": {},
     "output_type": "execute_result"
    }
   ],
   "source": [
    "# alternatively \n",
    "def list_length_words(list_words):\n",
    "    output = []\n",
    "    for word in list_words:\n",
    "        output.append(len(word))\n",
    "    return output\n",
    "\n",
    "list_length_words(['great', 'job', 'so', 'far'])"
   ]
  },
  {
   "cell_type": "markdown",
   "metadata": {},
   "source": [
    "## More Advanced Python Challenges"
   ]
  },
  {
   "cell_type": "markdown",
   "metadata": {},
   "source": [
    "**Challenge 1**"
   ]
  },
  {
   "cell_type": "code",
   "execution_count": 42,
   "metadata": {},
   "outputs": [
    {
     "data": {
      "text/plain": [
       "{' ': 68,\n",
       " ',': 4,\n",
       " '.': 4,\n",
       " 'a': 29,\n",
       " 'b': 3,\n",
       " 'c': 16,\n",
       " 'd': 18,\n",
       " 'e': 37,\n",
       " 'f': 3,\n",
       " 'g': 3,\n",
       " 'h': 1,\n",
       " 'i': 42,\n",
       " 'l': 21,\n",
       " 'm': 17,\n",
       " 'n': 24,\n",
       " 'o': 29,\n",
       " 'p': 11,\n",
       " 'q': 5,\n",
       " 'r': 22,\n",
       " 's': 18,\n",
       " 't': 32,\n",
       " 'u': 28,\n",
       " 'v': 3,\n",
       " 'x': 3}"
      ]
     },
     "execution_count": 42,
     "metadata": {},
     "output_type": "execute_result"
    }
   ],
   "source": [
    "def read_file(file_name):\n",
    "    with open(file_name) as file_object:\n",
    "        return file_object.readlines()\n",
    "\n",
    "# dictionary comprehension\n",
    "def letter_counter(file_name, letters_to_count='aeiou'):\n",
    "    '''Returns the number of times specified letters appear in a file'''\n",
    "    text = read_file(file_name)\n",
    "    return {letter.lower(): text[0].count(letter) for letter in list(text[0])}\n",
    "                             \n",
    "letter_counter('lorem_ipsum.txt')"
   ]
  },
  {
   "cell_type": "code",
   "execution_count": 31,
   "metadata": {},
   "outputs": [
    {
     "data": {
      "text/plain": [
       "{' ': 68,\n",
       " ',': 4,\n",
       " '.': 4,\n",
       " 'a': 29,\n",
       " 'b': 3,\n",
       " 'c': 16,\n",
       " 'd': 8,\n",
       " 'e': 8,\n",
       " 'f': 3,\n",
       " 'g': 3,\n",
       " 'h': 1,\n",
       " 'i': 42,\n",
       " 'l': 22,\n",
       " 'm': 17,\n",
       " 'n': 24,\n",
       " 'o': 29,\n",
       " 'p': 11,\n",
       " 'q': 5,\n",
       " 'r': 22,\n",
       " 's': 18,\n",
       " 't': 32,\n",
       " 'u': 23,\n",
       " 'v': 3,\n",
       " 'x': 3}"
      ]
     },
     "execution_count": 31,
     "metadata": {},
     "output_type": "execute_result"
    }
   ],
   "source": [
    "def read_file(file_name):\n",
    "    with open(file_name) as file_object:\n",
    "        return file_object.readlines()\n",
    "\n",
    "# alternatively \n",
    "def letter_counter(file_name, letters_to_count='aeiou'):\n",
    "    '''Returns the number of times specified letters appear in a file'''\n",
    "    text = read_file(file_name)\n",
    "\n",
    "    letter_frequency = {}\n",
    "    for letter in list(text[0]):\n",
    "        letter_frequency[letter.lower()] = letter_frequency.get(letter, 0) + 1        \n",
    "    return letter_frequency\n",
    "    \n",
    "letter_counter('lorem_ipsum.txt')"
   ]
  },
  {
   "cell_type": "markdown",
   "metadata": {},
   "source": [
    "**Challenge 2**"
   ]
  },
  {
   "cell_type": "code",
   "execution_count": 59,
   "metadata": {},
   "outputs": [
    {
     "name": "stdout",
     "output_type": "stream",
     "text": [
      "[1, 7, 8, 0, 7]\n",
      "The item is not in the list\n"
     ]
    }
   ],
   "source": [
    "def remove_item(list_items, item_to_remove):\n",
    "    '''Remove first occurence of item from list'''\n",
    "    return list_items[0:list_items.index(item_to_remove)] + list_items[list_items.index(item_to_remove)+1:] \\\n",
    "    if item_to_remove in list_items else 'The item is not in the list'\n",
    "\n",
    "print(remove_item([1,3,7,8,0,7], 3))\n",
    "print(remove_item([1,3,7,8,0,7], 2))"
   ]
  },
  {
   "cell_type": "markdown",
   "metadata": {},
   "source": [
    "**Challenge 3**"
   ]
  },
  {
   "cell_type": "code",
   "execution_count": 105,
   "metadata": {},
   "outputs": [
    {
     "name": "stdout",
     "output_type": "stream",
     "text": [
      "giuifg cei iprc tpnn du cei qprcni\n",
      "defend the east wall of the castle\n"
     ]
    }
   ],
   "source": [
    "def cipher(text, cipher_alphabet, option='encipher'):\n",
    "    '''\n",
    "    It has been assumed the option argument is always 'decipher' or 'encipher' \n",
    "    That is because the program uses 'decipher' if any argument than 'encipher' is passed different\n",
    "    '''\n",
    "    try:\n",
    "        return ''.join([cipher_alphabet[letter.lower()] for letter in list(text)]) \\\n",
    "        if option == 'encipher' else \\\n",
    "        ''.join([key for letter in list(text) for key, value in cipher_alphabet.items() if letter.lower() == value])\n",
    "    except:\n",
    "        return \"Please enter valid input (only a-z, A-Z and spaces allowed)\"\n",
    "\n",
    "# create cipher alphabet; note the additional space\n",
    "cipher_alphabet = dict(zip('abcdefghijklmnopqrstuvwxyz ', 'phqgiumeaylnofdxjkrcvstzwb '))\n",
    "\n",
    "print(cipher('defend the east wall of the castle', cipher_alphabet))\n",
    "print(cipher('giuifg cei iprc tpnn du cei qprcni', cipher_alphabet, 'decipher')) "
   ]
  },
  {
   "cell_type": "markdown",
   "metadata": {},
   "source": [
    "**Challenge 4**"
   ]
  },
  {
   "cell_type": "code",
   "execution_count": 133,
   "metadata": {},
   "outputs": [
    {
     "data": {
      "text/plain": [
       "1"
      ]
     },
     "execution_count": 133,
     "metadata": {},
     "output_type": "execute_result"
    }
   ],
   "source": [
    "def count_isograms(list_of_words):\n",
    "    '''Count the number of strings without repeating characters in a list.\n",
    "       A word is an isogram if all letters occur exactly 1 time.\n",
    "    '''\n",
    "    num_isograms = 0\n",
    "    \n",
    "    for word in list_of_words:\n",
    "        # convert to upper() to account for case insensitivity\n",
    "        if all(word.upper().count(letter.upper()) == 1 for letter in word):\n",
    "            num_isograms += 1 \n",
    "                \n",
    "    return num_isograms\n",
    "\n",
    "\n",
    "count_isograms(['conduct', 'letter', 'contract', 'hours', 'interview', 'Conduct'])"
   ]
  },
  {
   "cell_type": "markdown",
   "metadata": {},
   "source": [
    "**Challenge 5**"
   ]
  },
  {
   "cell_type": "code",
   "execution_count": 143,
   "metadata": {},
   "outputs": [
    {
     "data": {
      "text/plain": [
       "[(0, 4), (1, 2), (3, 5)]"
      ]
     },
     "execution_count": 143,
     "metadata": {},
     "output_type": "execute_result"
    }
   ],
   "source": [
    "def matching_pairs(data_list):\n",
    "    pairs = []\n",
    "    for index1, pair1 in enumerate(data_list): \n",
    "        for index2, pair2 in enumerate(data_list):\n",
    "            \n",
    "            # the sum of the number is a multiple of 3 \n",
    "            # it must be different pairs (so not two times the same item)\n",
    "            if ((pair1[1] + pair2[1]) % 3 == 0) and index1 != index2 and \\\n",
    "            \n",
    "            # only vowel-vowel or consonant-consonant combination\n",
    "            ((pair1[0] in 'aeiou' and pair2[0] in 'aeiou') or (pair1[0] not in 'aeiou' and pair2[0] not in 'aeiou')) and \\\n",
    "\n",
    "            # because (A,B) is the same as (B,A)\n",
    "            (index2, index1) not in pairs:\n",
    "                pairs.append((index1, index2))\n",
    "    return pairs\n",
    " \n",
    "matching_pairs([('a', 4), ('b', 5), ('c', 1), ('d', 3), ('e', 2), ('f', 6)])"
   ]
  },
  {
   "cell_type": "markdown",
   "metadata": {},
   "source": [
    ":fireworks:"
   ]
  },
  {
   "cell_type": "code",
   "execution_count": 138,
   "metadata": {},
   "outputs": [
    {
     "data": {
      "text/plain": [
       "[('a', 4), ('b', 5), ('c', 1), ('e', 2), ('f', 6)]"
      ]
     },
     "execution_count": 138,
     "metadata": {},
     "output_type": "execute_result"
    }
   ],
   "source": [
    "data_list = [('a', 4), ('b', 5), ('c', 1), ('d', 3), ('e', 2), ('f', 6)]\n",
    "data_list[:3] + data_list[4:]"
   ]
  },
  {
   "cell_type": "code",
   "execution_count": 70,
   "metadata": {},
   "outputs": [
    {
     "data": {
      "text/plain": [
       "'abc'"
      ]
     },
     "execution_count": 70,
     "metadata": {},
     "output_type": "execute_result"
    }
   ],
   "source": []
  },
  {
   "cell_type": "markdown",
   "metadata": {},
   "source": [
    "'''sql\n",
    "SELECT * FROM\n",
    "'''"
   ]
  },
  {
   "cell_type": "markdown",
   "metadata": {},
   "source": [
    "```\n",
    "c(1,2,3)\n",
    "```"
   ]
  },
  {
   "cell_type": "markdown",
   "metadata": {},
   "source": [
    "```python\n",
    "for word in words:\n",
    "    print(word*2)\n",
    "```"
   ]
  },
  {
   "cell_type": "code",
   "execution_count": 5,
   "metadata": {
    "collapsed": true
   },
   "outputs": [],
   "source": [
    "a = 12,"
   ]
  },
  {
   "cell_type": "code",
   "execution_count": 6,
   "metadata": {},
   "outputs": [
    {
     "data": {
      "text/plain": [
       "tuple"
      ]
     },
     "execution_count": 6,
     "metadata": {},
     "output_type": "execute_result"
    }
   ],
   "source": [
    "type(a)"
   ]
  },
  {
   "cell_type": "code",
   "execution_count": 20,
   "metadata": {
    "collapsed": true
   },
   "outputs": [],
   "source": [
    "a = {'a': 'roy', 'b': \"Rick\"}"
   ]
  },
  {
   "cell_type": "code",
   "execution_count": 22,
   "metadata": {},
   "outputs": [
    {
     "data": {
      "text/plain": [
       "[['a', 'b'], 'b']"
      ]
     },
     "execution_count": 22,
     "metadata": {},
     "output_type": "execute_result"
    }
   ],
   "source": [
    "[[key for key in a.keys()], 'b']"
   ]
  },
  {
   "cell_type": "code",
   "execution_count": 23,
   "metadata": {},
   "outputs": [
    {
     "data": {
      "text/plain": [
       "6"
      ]
     },
     "execution_count": 23,
     "metadata": {},
     "output_type": "execute_result"
    }
   ],
   "source": [
    "z = lambda z: z*2\n",
    "z(3)"
   ]
  },
  {
   "cell_type": "code",
   "execution_count": 44,
   "metadata": {},
   "outputs": [
    {
     "data": {
      "text/plain": [
       "1"
      ]
     },
     "execution_count": 44,
     "metadata": {},
     "output_type": "execute_result"
    }
   ],
   "source": [
    "a = lambda x: abs(5-x)\n",
    "a(2)\n",
    "a(3)\n",
    "a(4)\n",
    "a(5)\n",
    "a(6)"
   ]
  },
  {
   "cell_type": "code",
   "execution_count": 48,
   "metadata": {},
   "outputs": [
    {
     "ename": "TypeError",
     "evalue": "'int' object is not callable",
     "output_type": "error",
     "traceback": [
      "\u001b[0;31m---------------------------------------------------------------------------\u001b[0m",
      "\u001b[0;31mTypeError\u001b[0m                                 Traceback (most recent call last)",
      "\u001b[0;32m<ipython-input-48-6e729d2bc025>\u001b[0m in \u001b[0;36m<module>\u001b[0;34m()\u001b[0m\n\u001b[1;32m      1\u001b[0m \u001b[0mx\u001b[0m\u001b[0;34m=\u001b[0m\u001b[0;36m0\u001b[0m\u001b[0;34m\u001b[0m\u001b[0m\n\u001b[0;32m----> 2\u001b[0;31m \u001b[0msorted\u001b[0m\u001b[0;34m(\u001b[0m\u001b[0;34m[\u001b[0m\u001b[0;36m1\u001b[0m\u001b[0;34m,\u001b[0m\u001b[0;36m2\u001b[0m\u001b[0;34m,\u001b[0m\u001b[0;36m3\u001b[0m\u001b[0;34m]\u001b[0m\u001b[0;34m,\u001b[0m \u001b[0mkey\u001b[0m\u001b[0;34m=\u001b[0m\u001b[0mx\u001b[0m\u001b[0;34m)\u001b[0m\u001b[0;34m\u001b[0m\u001b[0m\n\u001b[0m",
      "\u001b[0;31mTypeError\u001b[0m: 'int' object is not callable"
     ]
    }
   ],
   "source": [
    "x=0\n",
    "sorted([1,2,3], key=x)"
   ]
  },
  {
   "cell_type": "code",
   "execution_count": 49,
   "metadata": {},
   "outputs": [
    {
     "ename": "NameError",
     "evalue": "name 'reduce' is not defined",
     "output_type": "error",
     "traceback": [
      "\u001b[0;31m---------------------------------------------------------------------------\u001b[0m",
      "\u001b[0;31mNameError\u001b[0m                                 Traceback (most recent call last)",
      "\u001b[0;32m<ipython-input-49-43c84ded55e9>\u001b[0m in \u001b[0;36m<module>\u001b[0;34m()\u001b[0m\n\u001b[0;32m----> 1\u001b[0;31m \u001b[0mreduce\u001b[0m\u001b[0;34m(\u001b[0m\u001b[0;32mlambda\u001b[0m \u001b[0ma\u001b[0m\u001b[0;34m,\u001b[0m \u001b[0mb\u001b[0m\u001b[0;34m:\u001b[0m \u001b[0;34m'{}, {}'\u001b[0m\u001b[0;34m.\u001b[0m\u001b[0mformat\u001b[0m\u001b[0;34m(\u001b[0m\u001b[0ma\u001b[0m\u001b[0;34m,\u001b[0m \u001b[0mb\u001b[0m\u001b[0;34m)\u001b[0m\u001b[0;34m,\u001b[0m \u001b[0;34m[\u001b[0m\u001b[0;36m1\u001b[0m\u001b[0;34m,\u001b[0m \u001b[0;36m2\u001b[0m\u001b[0;34m,\u001b[0m \u001b[0;36m3\u001b[0m\u001b[0;34m,\u001b[0m \u001b[0;36m4\u001b[0m\u001b[0;34m,\u001b[0m \u001b[0;36m5\u001b[0m\u001b[0;34m,\u001b[0m \u001b[0;36m6\u001b[0m\u001b[0;34m,\u001b[0m \u001b[0;36m7\u001b[0m\u001b[0;34m,\u001b[0m \u001b[0;36m8\u001b[0m\u001b[0;34m,\u001b[0m \u001b[0;36m9\u001b[0m\u001b[0;34m]\u001b[0m\u001b[0;34m)\u001b[0m\u001b[0;34m\u001b[0m\u001b[0m\n\u001b[0m",
      "\u001b[0;31mNameError\u001b[0m: name 'reduce' is not defined"
     ]
    }
   ],
   "source": [
    "reduce(lambda a, b: '{}, {}'.format(a, b), [1, 2, 3, 4, 5, 6, 7, 8, 9])"
   ]
  },
  {
   "cell_type": "code",
   "execution_count": 51,
   "metadata": {},
   "outputs": [
    {
     "data": {
      "text/plain": [
       "7"
      ]
     },
     "execution_count": 51,
     "metadata": {},
     "output_type": "execute_result"
    }
   ],
   "source": [
    ">>> def transform(n):\n",
    "...     return lambda x: x + n\n",
    "...\n",
    ">>> f = transform(3)\n",
    ">>> f(4)"
   ]
  },
  {
   "cell_type": "code",
   "execution_count": 54,
   "metadata": {},
   "outputs": [
    {
     "data": {
      "text/plain": [
       "[2]"
      ]
     },
     "execution_count": 54,
     "metadata": {},
     "output_type": "execute_result"
    }
   ],
   "source": [
    "list(filter(lambda x: x%2==0, [1,2,3]))"
   ]
  },
  {
   "cell_type": "code",
   "execution_count": 59,
   "metadata": {},
   "outputs": [
    {
     "name": "stdout",
     "output_type": "stream",
     "text": [
      "-39\n"
     ]
    }
   ],
   "source": [
    "from datetime import date\n",
    "\n",
    "d0 = date(2008, 8, 18)\n",
    "d1 = date(2008, 9, 26)\n",
    "delta = d0 - d1\n",
    "print(delta.days)"
   ]
  },
  {
   "cell_type": "code",
   "execution_count": 55,
   "metadata": {
    "collapsed": true
   },
   "outputs": [],
   "source": [
    "date_start = '01-02-2013'    \n",
    "date_stop = '07-28-2015'"
   ]
  },
  {
   "cell_type": "code",
   "execution_count": 64,
   "metadata": {},
   "outputs": [
    {
     "data": {
      "text/plain": [
       "'02'"
      ]
     },
     "execution_count": 64,
     "metadata": {},
     "output_type": "execute_result"
    }
   ],
   "source": [
    "date_start[3:5]"
   ]
  },
  {
   "cell_type": "code",
   "execution_count": 71,
   "metadata": {},
   "outputs": [
    {
     "data": {
      "text/plain": [
       "937"
      ]
     },
     "execution_count": 71,
     "metadata": {},
     "output_type": "execute_result"
    }
   ],
   "source": [
    "from datetime import date\n",
    "\n",
    "def convert_to_date_dash(date_string):\n",
    "    return date(int(date_string[-4:]), int(date_string[0:2]), int(date_string[3:5]))\n",
    "\n",
    "def calculate_date_difference(date_start, date_stop):\n",
    "    return (convert_to_date_dash(date_stop) - convert_to_date_dash(date_start)).days\n",
    "\n",
    "calculate_date_difference('01-02-2013', '07-28-2015')"
   ]
  },
  {
   "cell_type": "code",
   "execution_count": 60,
   "metadata": {},
   "outputs": [
    {
     "ename": "TypeError",
     "evalue": "an integer is required (got type str)",
     "output_type": "error",
     "traceback": [
      "\u001b[0;31m---------------------------------------------------------------------------\u001b[0m",
      "\u001b[0;31mTypeError\u001b[0m                                 Traceback (most recent call last)",
      "\u001b[0;32m<ipython-input-60-567ce71ea0d5>\u001b[0m in \u001b[0;36m<module>\u001b[0;34m()\u001b[0m\n\u001b[0;32m----> 1\u001b[0;31m \u001b[0mdate\u001b[0m\u001b[0;34m(\u001b[0m\u001b[0mdate_start\u001b[0m\u001b[0;34m[\u001b[0m\u001b[0;34m-\u001b[0m\u001b[0;36m4\u001b[0m\u001b[0;34m]\u001b[0m\u001b[0;34m,\u001b[0m \u001b[0;36m9\u001b[0m\u001b[0;34m,\u001b[0m \u001b[0;36m20\u001b[0m\u001b[0;34m)\u001b[0m\u001b[0;34m\u001b[0m\u001b[0m\n\u001b[0m",
      "\u001b[0;31mTypeError\u001b[0m: an integer is required (got type str)"
     ]
    }
   ],
   "source": [
    "def convert_to_date_dash(date_string):\n",
    "    return date(int(date_string[-4:]), int(date_string[0:2]), int(date_string[3:5]))\n",
    "\n",
    "def calculate_date_difference(date_start, date_stop):\n",
    "    return (convert_to_date_dash(date_stop) - convert_to_date_dash(date_start)).days\n",
    "\n",
    "calculate_date_difference('01-02-2013', '07-28-2015')"
   ]
  },
  {
   "cell_type": "code",
   "execution_count": 73,
   "metadata": {
    "collapsed": true
   },
   "outputs": [],
   "source": [
    "date_start = '15-Jan-1994'      \n",
    "date_stop = '14-Jul-2015'  \n",
    "month = {'Jan': 1, 'Feb': 2, 'Mar':3, 'Apr': 4, 'Jul': 7}"
   ]
  },
  {
   "cell_type": "code",
   "execution_count": 81,
   "metadata": {},
   "outputs": [
    {
     "data": {
      "text/plain": [
       "1"
      ]
     },
     "execution_count": 81,
     "metadata": {},
     "output_type": "execute_result"
    }
   ],
   "source": [
    "int(date_start[-4:])\n",
    "month[date_start[3:6]]"
   ]
  },
  {
   "cell_type": "code",
   "execution_count": 79,
   "metadata": {},
   "outputs": [
    {
     "data": {
      "text/plain": [
       "'Jan'"
      ]
     },
     "execution_count": 79,
     "metadata": {},
     "output_type": "execute_result"
    }
   ],
   "source": [
    "date_start[3:6]"
   ]
  },
  {
   "cell_type": "code",
   "execution_count": 111,
   "metadata": {
    "collapsed": true
   },
   "outputs": [],
   "source": [
    "with open('dsp/python/football.csv') as file_object:\n",
    "    football_object = file_object.readlines()\n",
    "    \n",
    "\n",
    "football_data = [line.strip() for line in football_object]"
   ]
  },
  {
   "cell_type": "code",
   "execution_count": 112,
   "metadata": {
    "collapsed": true
   },
   "outputs": [],
   "source": [
    "columns = football_data[0].split(',')"
   ]
  },
  {
   "cell_type": "code",
   "execution_count": 113,
   "metadata": {},
   "outputs": [
    {
     "data": {
      "text/plain": [
       "['Team',\n",
       " 'Games',\n",
       " 'Wins',\n",
       " 'Losses',\n",
       " 'Draws',\n",
       " 'Goals',\n",
       " 'Goals Allowed',\n",
       " 'Points']"
      ]
     },
     "execution_count": 113,
     "metadata": {},
     "output_type": "execute_result"
    }
   ],
   "source": [
    "columns"
   ]
  },
  {
   "cell_type": "code",
   "execution_count": 116,
   "metadata": {},
   "outputs": [
    {
     "data": {
      "text/plain": [
       "5"
      ]
     },
     "execution_count": 116,
     "metadata": {},
     "output_type": "execute_result"
    }
   ],
   "source": []
  },
  {
   "cell_type": "code",
   "execution_count": 118,
   "metadata": {},
   "outputs": [
    {
     "data": {
      "text/plain": [
       "[1, 1, 1, 1, 1, 1, 1, 1, 1, 1, 1, 1, 1, 1, 1, 1, 1, 1, 1, 1, 1]"
      ]
     },
     "execution_count": 118,
     "metadata": {},
     "output_type": "execute_result"
    }
   ],
   "source": [
    "[abs( - columns.index('Goals Allowed')) for team in football_data]"
   ]
  },
  {
   "cell_type": "code",
   "execution_count": 130,
   "metadata": {},
   "outputs": [
    {
     "data": {
      "text/plain": [
       "['Team,Games,Wins,Losses,Draws,Goals,Goals Allowed,Points',\n",
       " 'Arsenal,38,26,9,3,79,36,87',\n",
       " 'Liverpool,38,24,8,6,67,30,80',\n",
       " 'Manchester United,38,24,5,9,87,45,77',\n",
       " 'Newcastle,38,21,8,9,74,52,71',\n",
       " 'Leeds,38,18,12,8,53,37,66',\n",
       " 'Chelsea,38,17,13,8,66,38,64',\n",
       " 'West_Ham,38,15,8,15,48,57,53',\n",
       " 'Aston_Villa,38,12,14,12,46,47,50',\n",
       " 'Tottenham,38,14,8,16,49,53,50',\n",
       " 'Blackburn,38,12,10,16,55,51,46',\n",
       " 'Southampton,38,12,9,17,46,54,45',\n",
       " 'Middlesbrough,38,12,9,17,35,47,45',\n",
       " 'Fulham,38,10,14,14,36,44,44',\n",
       " 'Charlton,38,10,14,14,38,49,44',\n",
       " 'Everton,38,11,10,17,45,57,43',\n",
       " 'Bolton,38,9,13,16,44,62,40',\n",
       " 'Sunderland,38,10,10,18,29,51,40',\n",
       " 'Ipswich,38,9,9,20,41,64,36',\n",
       " 'Derby,38,8,6,24,33,63,30',\n",
       " 'Leicester,38,5,13,20,30,64,28']"
      ]
     },
     "execution_count": 130,
     "metadata": {},
     "output_type": "execute_result"
    }
   ],
   "source": [
    "football_data"
   ]
  },
  {
   "cell_type": "code",
   "execution_count": 133,
   "metadata": {},
   "outputs": [
    {
     "data": {
      "text/plain": [
       "{'Arsenal': 43,\n",
       " 'Aston_Villa': 1,\n",
       " 'Blackburn': 4,\n",
       " 'Bolton': 18,\n",
       " 'Charlton': 11,\n",
       " 'Chelsea': 28,\n",
       " 'Derby': 30,\n",
       " 'Everton': 12,\n",
       " 'Fulham': 8,\n",
       " 'Ipswich': 23,\n",
       " 'Leeds': 16,\n",
       " 'Leicester': 34,\n",
       " 'Liverpool': 37,\n",
       " 'Manchester United': 42,\n",
       " 'Middlesbrough': 12,\n",
       " 'Newcastle': 22,\n",
       " 'Southampton': 8,\n",
       " 'Sunderland': 22,\n",
       " 'Tottenham': 4,\n",
       " 'West_Ham': 9}"
      ]
     },
     "execution_count": 133,
     "metadata": {},
     "output_type": "execute_result"
    }
   ],
   "source": [
    "diff_for_against_goals = {team.split(',')[0]: abs(int(team.split(',')[columns.index('Goals')]) - int(team.split(',')[columns.index('Goals Allowed')])) for team in football_data[1:]}\n",
    "diff_for_against_goals"
   ]
  },
  {
   "cell_type": "code",
   "execution_count": 136,
   "metadata": {},
   "outputs": [
    {
     "data": {
      "text/plain": [
       "1"
      ]
     },
     "execution_count": 136,
     "metadata": {},
     "output_type": "execute_result"
    }
   ],
   "source": [
    "diff_for_against_goals\n",
    "min(diff_for_against_goals.values(), )"
   ]
  },
  {
   "cell_type": "code",
   "execution_count": 137,
   "metadata": {},
   "outputs": [
    {
     "data": {
      "text/plain": [
       "'Aston_Villa'"
      ]
     },
     "execution_count": 137,
     "metadata": {},
     "output_type": "execute_result"
    }
   ],
   "source": [
    "min(diff_for_against_goals, key=diff_for_against_goals.get)"
   ]
  },
  {
   "cell_type": "code",
   "execution_count": 143,
   "metadata": {},
   "outputs": [
    {
     "data": {
      "text/plain": [
       "dict_items([('Arsenal', 43), ('Liverpool', 37), ('Manchester United', 42), ('Newcastle', 22), ('Leeds', 16), ('Chelsea', 28), ('West_Ham', 9), ('Aston_Villa', 1), ('Tottenham', 4), ('Blackburn', 4), ('Southampton', 8), ('Middlesbrough', 12), ('Fulham', 8), ('Charlton', 11), ('Everton', 12), ('Bolton', 18), ('Sunderland', 22), ('Ipswich', 23), ('Derby', 30), ('Leicester', 34)])"
      ]
     },
     "execution_count": 143,
     "metadata": {},
     "output_type": "execute_result"
    }
   ],
   "source": [
    "diff_for_against_goals.items()"
   ]
  },
  {
   "cell_type": "code",
   "execution_count": 140,
   "metadata": {},
   "outputs": [
    {
     "data": {
      "text/plain": [
       "'Aston_Villa'"
      ]
     },
     "execution_count": 140,
     "metadata": {},
     "output_type": "execute_result"
    }
   ],
   "source": [
    "min(diff_for_against_goals.items(), key=lambda x: x[1])[0]"
   ]
  },
  {
   "cell_type": "code",
   "execution_count": 148,
   "metadata": {},
   "outputs": [
    {
     "data": {
      "text/plain": [
       "'Aston_Villa'"
      ]
     },
     "execution_count": 148,
     "metadata": {},
     "output_type": "execute_result"
    }
   ],
   "source": [
    "min(diff_for_against_goals, key=diff_for_against_goals.get)"
   ]
  },
  {
   "cell_type": "code",
   "execution_count": 149,
   "metadata": {},
   "outputs": [
    {
     "data": {
      "text/plain": [
       "'Aston_Villa'"
      ]
     },
     "execution_count": 149,
     "metadata": {},
     "output_type": "execute_result"
    }
   ],
   "source": [
    "min(diff_for_against_goals, key= lambda x: diff_for_against_goals[x])"
   ]
  },
  {
   "cell_type": "code",
   "execution_count": 153,
   "metadata": {
    "collapsed": true
   },
   "outputs": [],
   "source": [
    "import pandas as pd\n",
    "df = pd.read_csv('dsp/python/football.csv')"
   ]
  },
  {
   "cell_type": "code",
   "execution_count": 154,
   "metadata": {},
   "outputs": [
    {
     "data": {
      "text/html": [
       "<div>\n",
       "<style scoped>\n",
       "    .dataframe tbody tr th:only-of-type {\n",
       "        vertical-align: middle;\n",
       "    }\n",
       "\n",
       "    .dataframe tbody tr th {\n",
       "        vertical-align: top;\n",
       "    }\n",
       "\n",
       "    .dataframe thead th {\n",
       "        text-align: right;\n",
       "    }\n",
       "</style>\n",
       "<table border=\"1\" class=\"dataframe\">\n",
       "  <thead>\n",
       "    <tr style=\"text-align: right;\">\n",
       "      <th></th>\n",
       "      <th>Team</th>\n",
       "      <th>Games</th>\n",
       "      <th>Wins</th>\n",
       "      <th>Losses</th>\n",
       "      <th>Draws</th>\n",
       "      <th>Goals</th>\n",
       "      <th>Goals Allowed</th>\n",
       "      <th>Points</th>\n",
       "    </tr>\n",
       "  </thead>\n",
       "  <tbody>\n",
       "    <tr>\n",
       "      <th>0</th>\n",
       "      <td>Arsenal</td>\n",
       "      <td>38</td>\n",
       "      <td>26</td>\n",
       "      <td>9</td>\n",
       "      <td>3</td>\n",
       "      <td>79</td>\n",
       "      <td>36</td>\n",
       "      <td>87</td>\n",
       "    </tr>\n",
       "    <tr>\n",
       "      <th>1</th>\n",
       "      <td>Liverpool</td>\n",
       "      <td>38</td>\n",
       "      <td>24</td>\n",
       "      <td>8</td>\n",
       "      <td>6</td>\n",
       "      <td>67</td>\n",
       "      <td>30</td>\n",
       "      <td>80</td>\n",
       "    </tr>\n",
       "    <tr>\n",
       "      <th>2</th>\n",
       "      <td>Manchester United</td>\n",
       "      <td>38</td>\n",
       "      <td>24</td>\n",
       "      <td>5</td>\n",
       "      <td>9</td>\n",
       "      <td>87</td>\n",
       "      <td>45</td>\n",
       "      <td>77</td>\n",
       "    </tr>\n",
       "    <tr>\n",
       "      <th>3</th>\n",
       "      <td>Newcastle</td>\n",
       "      <td>38</td>\n",
       "      <td>21</td>\n",
       "      <td>8</td>\n",
       "      <td>9</td>\n",
       "      <td>74</td>\n",
       "      <td>52</td>\n",
       "      <td>71</td>\n",
       "    </tr>\n",
       "    <tr>\n",
       "      <th>4</th>\n",
       "      <td>Leeds</td>\n",
       "      <td>38</td>\n",
       "      <td>18</td>\n",
       "      <td>12</td>\n",
       "      <td>8</td>\n",
       "      <td>53</td>\n",
       "      <td>37</td>\n",
       "      <td>66</td>\n",
       "    </tr>\n",
       "  </tbody>\n",
       "</table>\n",
       "</div>"
      ],
      "text/plain": [
       "                Team  Games  Wins  Losses  Draws  Goals  Goals Allowed  Points\n",
       "0            Arsenal     38    26       9      3     79             36      87\n",
       "1          Liverpool     38    24       8      6     67             30      80\n",
       "2  Manchester United     38    24       5      9     87             45      77\n",
       "3          Newcastle     38    21       8      9     74             52      71\n",
       "4              Leeds     38    18      12      8     53             37      66"
      ]
     },
     "execution_count": 154,
     "metadata": {},
     "output_type": "execute_result"
    }
   ],
   "source": [
    "df.head()"
   ]
  },
  {
   "cell_type": "code",
   "execution_count": 183,
   "metadata": {},
   "outputs": [
    {
     "data": {
      "text/plain": [
       "'Aston_Villa'"
      ]
     },
     "execution_count": 183,
     "metadata": {},
     "output_type": "execute_result"
    }
   ],
   "source": [
    "df.loc[(abs(df['Goals'] - df['Goals Allowed'])).idxmin(), 'Team']"
   ]
  },
  {
   "cell_type": "code",
   "execution_count": 182,
   "metadata": {},
   "outputs": [
    {
     "data": {
      "text/plain": [
       "7"
      ]
     },
     "execution_count": 182,
     "metadata": {},
     "output_type": "execute_result"
    }
   ],
   "source": []
  },
  {
   "cell_type": "code",
   "execution_count": null,
   "metadata": {
    "collapsed": true
   },
   "outputs": [],
   "source": []
  }
 ],
 "metadata": {
  "kernelspec": {
   "display_name": "Python 3",
   "language": "python",
   "name": "python3"
  },
  "language_info": {
   "codemirror_mode": {
    "name": "ipython",
    "version": 3
   },
   "file_extension": ".py",
   "mimetype": "text/x-python",
   "name": "python",
   "nbconvert_exporter": "python",
   "pygments_lexer": "ipython3",
   "version": "3.6.0"
  }
 },
 "nbformat": 4,
 "nbformat_minor": 2
}
